{
 "cells": [
  {
   "cell_type": "code",
   "execution_count": null,
   "id": "00f66d9c-f9c1-4a0c-915f-5fd4ffb257e3",
   "metadata": {},
   "outputs": [],
   "source": [
    "import xarray as xr\n",
    "import numpy as np\n",
    "import hvplot as hv\n",
    "import matplotlib.pyplot as plt"
   ]
  },
  {
   "cell_type": "code",
   "execution_count": null,
   "id": "1ff9cf72-b96e-407c-96a6-6313bc5a64db",
   "metadata": {},
   "outputs": [],
   "source": [
    "file = 'erdHadISST_2deg_EPac.nc'\n",
    "ds = xr.open_dataset(file)"
   ]
  },
  {
   "cell_type": "code",
   "execution_count": null,
   "id": "309ebfc4-c27d-4c40-8286-7bc36f47e9e5",
   "metadata": {},
   "outputs": [],
   "source": [
    "# get dimensions - for reshaping 3-D to 2-D data matrix\n",
    "nt,nlat,nlon=ds.sst.shape\n",
    "ds.sst.shape"
   ]
  },
  {
   "cell_type": "code",
   "execution_count": null,
   "id": "77431a90-ac18-426b-951b-a533325cb702",
   "metadata": {},
   "outputs": [],
   "source": [
    "# quick look sanity check\n",
    "ds.sst.isel(time=100).plot()"
   ]
  },
  {
   "cell_type": "code",
   "execution_count": null,
   "id": "7a70e36b-6ac4-4d7d-8822-10bddea2c3c9",
   "metadata": {},
   "outputs": [],
   "source": [
    "ds.sst.isel(latitude=0).plot()"
   ]
  },
  {
   "cell_type": "code",
   "execution_count": null,
   "id": "c3977ba4-2cdf-46e1-9eac-2b94db24bc13",
   "metadata": {},
   "outputs": [],
   "source": [
    "# We see that points on land are all NaN\n",
    "# These must be eliminated before we compute covariance or SVD. \n",
    "# Setting them to zero will suffice for now\n",
    "data = ds.sst.fillna(0)\n",
    "data[:,2,:].plot()\n",
    "# nans are replaced with zeros"
   ]
  },
  {
   "cell_type": "code",
   "execution_count": null,
   "id": "22086769-b3ca-4c30-80a3-09d289999bd8",
   "metadata": {},
   "outputs": [],
   "source": [
    "# Recompute the mean\n",
    "datam=data.mean(axis=0)\n",
    "datam.plot()"
   ]
  },
  {
   "cell_type": "code",
   "execution_count": null,
   "id": "c6a1812c-20e5-4670-9e82-5b3ff71d46b6",
   "metadata": {},
   "outputs": [],
   "source": [
    "# Remove the mean from each time series so we can work with covariances\n",
    "datap=data-datam\n",
    "datap[:,6,:].plot()\n",
    "# Looks like El Niño (the land values are zero)"
   ]
  },
  {
   "cell_type": "code",
   "execution_count": null,
   "id": "02364265-69bb-479a-aa53-dd54d0020b87",
   "metadata": {},
   "outputs": [],
   "source": [
    "# Create 2-D data matrix. Time is row dimension; position is column dimension\n",
    "datap2d=np.reshape(datap.values,((nt,-1)))\n",
    "datap2d.shape"
   ]
  },
  {
   "cell_type": "code",
   "execution_count": null,
   "id": "44e6bb3c-ba33-466b-a6b7-6769df7df779",
   "metadata": {},
   "outputs": [],
   "source": [
    "# The correct order of transpose operations to get covariance over time:\n",
    "C=np.dot(datap2d.T,datap2d)"
   ]
  },
  {
   "cell_type": "code",
   "execution_count": null,
   "id": "6ab92f55-c88a-4264-8d2b-4a2bb5153e11",
   "metadata": {},
   "outputs": [],
   "source": [
    "# EOFs are eigenvectors of the covariance matrix\n",
    "eigvals,eigvecs=np.linalg.eig(C)"
   ]
  },
  {
   "cell_type": "code",
   "execution_count": null,
   "id": "b4d24ded-e8b7-4673-9f55-06f4568a96b5",
   "metadata": {},
   "outputs": [],
   "source": [
    "# np.linalg.eig does not sort eigenvalues in any particular order, so do this\n",
    "order = np.flip(eigvals.argsort())\n",
    "eigvals=eigvals[order]\n",
    "eigvecs=eigvecs[:,order]"
   ]
  },
  {
   "cell_type": "code",
   "execution_count": null,
   "id": "c379120d-d93e-4979-b323-ac328d7d3a08",
   "metadata": {},
   "outputs": [],
   "source": [
    "# Reshape the 1-D eigenvectors to 2-D nlon*nlat so we can plot them\n",
    "eofscov=np.reshape(eigvecs,(nlat,nlon,nlon*nlat))\n",
    "eofscov[0:10,0,0]"
   ]
  },
  {
   "cell_type": "code",
   "execution_count": null,
   "id": "817e671a-1886-4eab-ac16-815c8661611a",
   "metadata": {},
   "outputs": [],
   "source": [
    "#"
   ]
  },
  {
   "cell_type": "code",
   "execution_count": null,
   "id": "7c4ac4c6-265d-4b10-85ee-5346ebefb7e6",
   "metadata": {},
   "outputs": [],
   "source": [
    "# EOFs are left singular vectors, U, of Singular Value Decomposition\n",
    "U,S,Vt=np.linalg.svd(datap2d.T)"
   ]
  },
  {
   "cell_type": "code",
   "execution_count": null,
   "id": "aaf1f097-22da-4db4-b690-0ff294686d56",
   "metadata": {},
   "outputs": [],
   "source": [
    "# S from svd are already sorted in descending order (except for the last few \n",
    "# that are so small ~1e-14 that they are insignificant)"
   ]
  },
  {
   "cell_type": "code",
   "execution_count": null,
   "id": "6c4b09b0-de22-40a7-9a74-369e487c6ee2",
   "metadata": {},
   "outputs": [],
   "source": [
    "eofssvd=np.reshape(U,(nlat,nlon,nlon*nlat))"
   ]
  },
  {
   "cell_type": "code",
   "execution_count": null,
   "id": "33037f34-b738-4489-84ca-9f7170f96d39",
   "metadata": {},
   "outputs": [],
   "source": [
    "eofssvd[0:10,0,0]"
   ]
  },
  {
   "cell_type": "code",
   "execution_count": null,
   "id": "680c23cf-7e56-4f40-815f-328d5ef095ba",
   "metadata": {},
   "outputs": [],
   "source": [
    "# Mode 1\n",
    "ax=plt.pcolormesh(ds.longitude,ds.latitude,eofssvd[:,:,0],cmap='RdBu')\n",
    "plt.colorbar(ax)"
   ]
  },
  {
   "cell_type": "code",
   "execution_count": null,
   "id": "4ab9d4e6-7a16-4089-878d-5b7a185dd671",
   "metadata": {},
   "outputs": [],
   "source": [
    "# Mode 2\n",
    "ax=plt.pcolormesh(ds.longitude,ds.latitude,eofssvd[:,:,1],cmap='RdBu')\n",
    "plt.colorbar(ax)"
   ]
  },
  {
   "cell_type": "code",
   "execution_count": null,
   "id": "2d03dac0-574c-4ea7-b5b4-1d2eab1bd7cf",
   "metadata": {},
   "outputs": [],
   "source": [
    "# Verify that SVD and COV modes are the same\n",
    "ax=plt.pcolormesh(ds.longitude,ds.latitude,eofscov[:,:,1],cmap='RdBu')\n",
    "plt.colorbar(ax)"
   ]
  },
  {
   "cell_type": "code",
   "execution_count": null,
   "id": "605ab19c-2432-4796-b61f-5752d35f83b4",
   "metadata": {},
   "outputs": [],
   "source": []
  },
  {
   "cell_type": "code",
   "execution_count": null,
   "id": "46ba4d9e-3e38-4629-8f95-4b30d8a703eb",
   "metadata": {},
   "outputs": [],
   "source": []
  },
  {
   "cell_type": "code",
   "execution_count": null,
   "id": "fdfd7b0d-eb82-431c-8cc0-762dc8bad216",
   "metadata": {},
   "outputs": [],
   "source": []
  },
  {
   "cell_type": "code",
   "execution_count": null,
   "id": "e325e458-4973-4fc5-9a6f-8525a33033a0",
   "metadata": {},
   "outputs": [],
   "source": []
  }
 ],
 "metadata": {
  "kernelspec": {
   "display_name": "Python 3 (ipykernel)",
   "language": "python",
   "name": "python3"
  },
  "language_info": {
   "codemirror_mode": {
    "name": "ipython",
    "version": 3
   },
   "file_extension": ".py",
   "mimetype": "text/x-python",
   "name": "python",
   "nbconvert_exporter": "python",
   "pygments_lexer": "ipython3",
   "version": "3.9.12"
  }
 },
 "nbformat": 4,
 "nbformat_minor": 5
}
