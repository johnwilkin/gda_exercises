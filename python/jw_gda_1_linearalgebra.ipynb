{
 "cells": [
  {
   "cell_type": "markdown",
   "id": "967c7d43-6acc-426d-9656-dc6a900cd3f4",
   "metadata": {},
   "source": [
    "# Basic linear algebra concepts "
   ]
  },
  {
   "cell_type": "markdown",
   "id": "00835bb6-d6b7-47e0-8dff-11006854cb12",
   "metadata": {},
   "source": [
    "## notebook jw_gda_1_linearalgebra"
   ]
  },
  {
   "cell_type": "code",
   "execution_count": 1,
   "id": "591eb3f7-7093-4b15-9dba-d5fba225a542",
   "metadata": {
    "tags": []
   },
   "outputs": [],
   "source": [
    "import numpy as np\n",
    "import numpy.linalg as linalg"
   ]
  },
  {
   "cell_type": "markdown",
   "id": "ba4a988f-45ae-4993-9305-97cc43ded8eb",
   "metadata": {
    "tags": []
   },
   "source": [
    "## Properties of matrix multiplication "
   ]
  },
  {
   "cell_type": "code",
   "execution_count": 2,
   "id": "3672005c-9d0a-4b56-a17c-4f1f85cdddf5",
   "metadata": {},
   "outputs": [
    {
     "name": "stdout",
     "output_type": "stream",
     "text": [
      "[[0.62717602 0.76930566 0.63285537]\n",
      " [0.36702086 0.94158038 0.09727539]\n",
      " [0.49668758 0.51799662 0.74023796]\n",
      " [0.51538139 0.58456042 0.88796809]\n",
      " [0.84169362 0.47120899 0.86695241]]\n"
     ]
    }
   ],
   "source": [
    "m=5\n",
    "p=3\n",
    "n=4\n",
    "a=np.random.rand(m,p)\n",
    "b=np.random.rand(p,n)\n",
    "print(a)"
   ]
  },
  {
   "cell_type": "code",
   "execution_count": 3,
   "id": "c31a0373-ac68-4f26-b5b1-e8df41a6aec2",
   "metadata": {},
   "outputs": [
    {
     "data": {
      "text/plain": [
       "(5, 4)"
      ]
     },
     "execution_count": 3,
     "metadata": {},
     "output_type": "execute_result"
    }
   ],
   "source": [
    "# must be conformable for matrix multiplication\n",
    "c=np.dot(a,b)\n",
    "c.shape"
   ]
  },
  {
   "cell_type": "code",
   "execution_count": 55,
   "id": "105350d5-5835-451e-b21a-c080cc42cbe0",
   "metadata": {},
   "outputs": [
    {
     "ename": "ValueError",
     "evalue": "shapes (3,4) and (5,3) not aligned: 4 (dim 1) != 5 (dim 0)",
     "output_type": "error",
     "traceback": [
      "\u001b[0;31m---------------------------------------------------------------------------\u001b[0m",
      "\u001b[0;31mValueError\u001b[0m                                Traceback (most recent call last)",
      "Input \u001b[0;32mIn [55]\u001b[0m, in \u001b[0;36m<cell line: 2>\u001b[0;34m()\u001b[0m\n\u001b[1;32m      1\u001b[0m \u001b[38;5;66;03m# if you switch the order it won't work - the order b*a is not conformable\u001b[39;00m\n\u001b[0;32m----> 2\u001b[0m \u001b[43mnp\u001b[49m\u001b[38;5;241;43m.\u001b[39;49m\u001b[43mdot\u001b[49m\u001b[43m(\u001b[49m\u001b[43mb\u001b[49m\u001b[43m,\u001b[49m\u001b[43ma\u001b[49m\u001b[43m)\u001b[49m\n",
      "File \u001b[0;32m<__array_function__ internals>:5\u001b[0m, in \u001b[0;36mdot\u001b[0;34m(*args, **kwargs)\u001b[0m\n",
      "\u001b[0;31mValueError\u001b[0m: shapes (3,4) and (5,3) not aligned: 4 (dim 1) != 5 (dim 0)"
     ]
    }
   ],
   "source": [
    "# if you switch the order it won't work - the order b*a is not conformable\n",
    "np.dot(b,a)"
   ]
  },
  {
   "cell_type": "markdown",
   "id": "ff9967ae-0a5d-42d4-9b83-3c2a473243e0",
   "metadata": {},
   "source": [
    "#### The transpose of the product of matrices (AB)^T is B^TA^T"
   ]
  },
  {
   "cell_type": "code",
   "execution_count": 56,
   "id": "f33b7cf8-7d0c-4775-baaa-b7a8f03e5771",
   "metadata": {},
   "outputs": [
    {
     "data": {
      "text/plain": [
       "array([[0.72009634, 0.10068032, 0.60878984, 1.07187756, 0.95391731],\n",
       "       [0.70698599, 0.52342117, 1.0977857 , 1.08170632, 1.10159322],\n",
       "       [0.82472722, 0.6176212 , 1.36375803, 1.2254758 , 1.26052265],\n",
       "       [0.57309304, 0.17334326, 0.75605049, 0.77986127, 0.73651802]])"
      ]
     },
     "execution_count": 56,
     "metadata": {},
     "output_type": "execute_result"
    }
   ],
   "source": [
    "np.dot(a,b).T"
   ]
  },
  {
   "cell_type": "code",
   "execution_count": 57,
   "id": "26d8f19c-050d-4abd-a999-fafcdfe1580a",
   "metadata": {},
   "outputs": [
    {
     "data": {
      "text/plain": [
       "array([[0.72009634, 0.10068032, 0.60878984, 1.07187756, 0.95391731],\n",
       "       [0.70698599, 0.52342117, 1.0977857 , 1.08170632, 1.10159322],\n",
       "       [0.82472722, 0.6176212 , 1.36375803, 1.2254758 , 1.26052265],\n",
       "       [0.57309304, 0.17334326, 0.75605049, 0.77986127, 0.73651802]])"
      ]
     },
     "execution_count": 57,
     "metadata": {},
     "output_type": "execute_result"
    }
   ],
   "source": [
    "np.dot(b.T,a.T)"
   ]
  },
  {
   "cell_type": "markdown",
   "id": "635c81fc-0b50-44e6-8438-2a00a825098c",
   "metadata": {},
   "source": [
    "#### Square matrices are always comformable, but matrix multiplication is not commutative"
   ]
  },
  {
   "cell_type": "code",
   "execution_count": 58,
   "id": "2c7dfa40-9455-498f-b477-c7dca0930466",
   "metadata": {},
   "outputs": [],
   "source": [
    "d1=np.random.rand(p,p)\n",
    "d2=np.random.rand(p,p)"
   ]
  },
  {
   "cell_type": "code",
   "execution_count": 59,
   "id": "08cca7ef-9430-45cd-8934-67b7b4b6d524",
   "metadata": {},
   "outputs": [
    {
     "data": {
      "text/plain": [
       "array([[1.29717129, 1.08332123, 0.78110125],\n",
       "       [0.96789809, 0.69470739, 0.50586284],\n",
       "       [1.16367622, 0.89487514, 0.62995161]])"
      ]
     },
     "execution_count": 59,
     "metadata": {},
     "output_type": "execute_result"
    }
   ],
   "source": [
    "np.dot(d1,d2)"
   ]
  },
  {
   "cell_type": "code",
   "execution_count": 60,
   "id": "840b6e2d-1cc9-40ca-98e2-9919d711d295",
   "metadata": {},
   "outputs": [
    {
     "data": {
      "text/plain": [
       "array([[0.56294486, 0.64287761, 0.9698147 ],\n",
       "       [0.93467857, 0.86719973, 1.35203452],\n",
       "       [0.80670302, 0.7865687 , 1.19168569]])"
      ]
     },
     "execution_count": 60,
     "metadata": {},
     "output_type": "execute_result"
    }
   ],
   "source": [
    "np.dot(d2,d1)"
   ]
  },
  {
   "cell_type": "markdown",
   "id": "df8b1c7b-d579-45d4-8c72-0722dc701aa2",
   "metadata": {},
   "source": [
    "#### Make a simple data matrix and perform some basic operations"
   ]
  },
  {
   "cell_type": "code",
   "execution_count": 61,
   "id": "3e1ed0d0-85d0-430c-92c6-2250d09549f5",
   "metadata": {},
   "outputs": [],
   "source": [
    "# each column is e.g. a time series of m time values, and there are n observation locations\n",
    "m=10\n",
    "n=4\n",
    "d=np.random.rand(m,n)"
   ]
  },
  {
   "cell_type": "code",
   "execution_count": 62,
   "id": "b7eb17c9-4ab0-4f0c-9926-9603bf1cdf32",
   "metadata": {},
   "outputs": [
    {
     "data": {
      "text/plain": [
       "array([0.4079037 , 0.45419148, 0.4202574 , 0.6090462 ])"
      ]
     },
     "execution_count": 62,
     "metadata": {},
     "output_type": "execute_result"
    }
   ],
   "source": [
    "# the mean of each time series\n",
    "d.mean(axis=0)"
   ]
  },
  {
   "cell_type": "code",
   "execution_count": 63,
   "id": "5e801b65-6e10-4acf-a034-89bcd5a6bc8e",
   "metadata": {},
   "outputs": [
    {
     "data": {
      "text/plain": [
       "array([0.33582652, 0.47532706, 0.10843199, 0.84498934, 0.48391   ,\n",
       "       0.47438013, 0.57714791, 0.47716002, 0.66594417, 0.28537981])"
      ]
     },
     "execution_count": 63,
     "metadata": {},
     "output_type": "execute_result"
    }
   ],
   "source": [
    "# the mean of all observations at each time\n",
    "d.mean(axis=1)"
   ]
  },
  {
   "cell_type": "markdown",
   "id": "a5b8abfb-73a3-4410-9b47-57106f2033be",
   "metadata": {},
   "source": [
    "#### Calculate the covariance matrix C = D'D"
   ]
  },
  {
   "cell_type": "code",
   "execution_count": 64,
   "id": "4de0f6d1-eb9e-42c2-9b3e-0261ffd84090",
   "metadata": {
    "tags": []
   },
   "outputs": [],
   "source": [
    "# but first remove the mean from each time series\n",
    "dd=d-d.mean(axis=0)"
   ]
  },
  {
   "cell_type": "code",
   "execution_count": 65,
   "id": "901efe09-ec15-40d2-bd4d-f8c0202be88c",
   "metadata": {},
   "outputs": [
    {
     "data": {
      "text/plain": [
       "array([-4.44089210e-17, -3.33066907e-17, -5.55111512e-17,  3.33066907e-17])"
      ]
     },
     "execution_count": 65,
     "metadata": {},
     "output_type": "execute_result"
    }
   ],
   "source": [
    "# check\n",
    "dd.mean(axis=0)"
   ]
  },
  {
   "cell_type": "code",
   "execution_count": 66,
   "id": "a8b3b841-7419-4f5e-9b30-2add3a31a78d",
   "metadata": {},
   "outputs": [
    {
     "name": "stdout",
     "output_type": "stream",
     "text": [
      "[0.06382473 0.08849275 0.06191792 0.06520133]\n"
     ]
    }
   ],
   "source": [
    "# then variance of each time series is the diagonal of 1/m * d.T*d (remember to divide by the number of points, m)\n",
    "# pay attention to whether it is d.T*d or d*d.T\n",
    "cov=np.dot(dd.T,dd)/m\n",
    "print(cov.diagonal())"
   ]
  },
  {
   "cell_type": "code",
   "execution_count": 67,
   "id": "64cff5bb-7b74-4b09-871d-9fb30ede645f",
   "metadata": {},
   "outputs": [
    {
     "data": {
      "text/plain": [
       "array([0.06382473, 0.08849275, 0.06191792, 0.06520133])"
      ]
     },
     "execution_count": 67,
     "metadata": {},
     "output_type": "execute_result"
    }
   ],
   "source": [
    "# compare to using the built-in function\n",
    "d.var(axis=0)"
   ]
  },
  {
   "cell_type": "code",
   "execution_count": 68,
   "id": "c837590b-7b0a-4893-bf7b-6ea608fb6cde",
   "metadata": {},
   "outputs": [
    {
     "data": {
      "text/plain": [
       "array([0.06382473, 0.08849275, 0.06191792, 0.06520133])"
      ]
     },
     "execution_count": 68,
     "metadata": {},
     "output_type": "execute_result"
    }
   ],
   "source": [
    "# we got the same result, which tells us something about the assumed dof \n",
    "# the default os ddof=0 in python which is differetn from MATLAB\n",
    "d.var(axis=0,ddof=0)"
   ]
  },
  {
   "cell_type": "code",
   "execution_count": 69,
   "id": "03038948-475d-44d2-8697-7dde3182ac71",
   "metadata": {},
   "outputs": [
    {
     "data": {
      "text/plain": [
       "array([0.07091637, 0.09832528, 0.06879768, 0.07244593])"
      ]
     },
     "execution_count": 69,
     "metadata": {},
     "output_type": "execute_result"
    }
   ],
   "source": [
    "d.var(axis=0,ddof=1)"
   ]
  },
  {
   "cell_type": "code",
   "execution_count": 70,
   "id": "60971792-42b6-42b6-ab96-068813f03002",
   "metadata": {},
   "outputs": [
    {
     "data": {
      "text/plain": [
       "array([0.07091637, 0.09832528, 0.06879768, 0.07244593])"
      ]
     },
     "execution_count": 70,
     "metadata": {},
     "output_type": "execute_result"
    }
   ],
   "source": [
    "# check\n",
    "(np.dot(dd.T,dd)/(m-1)).diagonal()"
   ]
  },
  {
   "cell_type": "markdown",
   "id": "ba99e795-99b0-4fd7-b6d4-2c1c89375ba4",
   "metadata": {},
   "source": [
    "## Projecting a vector onto an orthogonal basis set"
   ]
  },
  {
   "cell_type": "markdown",
   "id": "dbf8a320-d1a6-4902-9314-451555461c14",
   "metadata": {},
   "source": [
    "#### Compute eigenvectors of a matrix"
   ]
  },
  {
   "cell_type": "code",
   "execution_count": 71,
   "id": "c6dd9165-1274-4e26-a7d5-8159a11429ef",
   "metadata": {
    "tags": []
   },
   "outputs": [],
   "source": [
    "# remember we did this to shorten the syntax numpy.linalg.eig in the code that follows\n",
    "# import numpy.linalg as linalg"
   ]
  },
  {
   "cell_type": "code",
   "execution_count": 73,
   "id": "efc7c4b2-71b7-48da-83a4-23ec3b7960de",
   "metadata": {},
   "outputs": [
    {
     "data": {
      "text/plain": [
       "array([[-0.42492943+0.j        ,  0.01621648+0.j        ,\n",
       "         0.69733639+0.j        ,  0.06424386+0.01243828j,\n",
       "         0.06424386-0.01243828j],\n",
       "       [-0.45322557+0.j        , -0.15298705+0.j        ,\n",
       "        -0.52615536+0.j        ,  0.33896565+0.40350909j,\n",
       "         0.33896565-0.40350909j],\n",
       "       [-0.478855  +0.j        , -0.18012892+0.j        ,\n",
       "        -0.19696354+0.j        , -0.61522551+0.j        ,\n",
       "        -0.61522551-0.j        ],\n",
       "       [-0.29871045+0.j        , -0.62917351+0.j        ,\n",
       "        -0.39254294+0.j        ,  0.28058055-0.50997343j,\n",
       "         0.28058055+0.50997343j],\n",
       "       [-0.54359131+0.j        ,  0.74028795+0.j        ,\n",
       "         0.20975676+0.j        ,  0.02155214+0.01534461j,\n",
       "         0.02155214-0.01534461j]])"
      ]
     },
     "execution_count": 73,
     "metadata": {},
     "output_type": "execute_result"
    }
   ],
   "source": [
    "# make a random square matrix of dimension n and find its eigenvectors\n",
    "n=5;\n",
    "a=np.random.rand(n,n)\n",
    "eigvals,eigvecs=linalg.eig(a)\n",
    "eigvecs"
   ]
  },
  {
   "cell_type": "code",
   "execution_count": 74,
   "id": "f1072ad6-6cc7-46a5-8490-7ea848bfbe3d",
   "metadata": {},
   "outputs": [
    {
     "data": {
      "text/plain": [
       "array([[-0.41254268, -0.15114579,  0.68340855, -0.3328512 ,  0.47867142],\n",
       "       [-0.4571753 ,  0.42436657,  0.04087453, -0.45459826, -0.63448676],\n",
       "       [-0.49308011, -0.46969699,  0.15997641,  0.60425569, -0.38149619],\n",
       "       [-0.30670097,  0.72382563, -0.0026151 ,  0.52199929,  0.33093938],\n",
       "       [-0.53254653, -0.22919239, -0.71111373, -0.211996  ,  0.33651152]])"
      ]
     },
     "execution_count": 74,
     "metadata": {},
     "output_type": "execute_result"
    }
   ],
   "source": [
    "# make a random SYMMETRIC square matrix of dimension n and find its eigenvectors\n",
    "c=np.dot(a,a.T);\n",
    "eigvals,eigvecs=linalg.eig(c)\n",
    "eigvecs"
   ]
  },
  {
   "cell_type": "code",
   "execution_count": 75,
   "id": "b5c09f1b-4bf2-4e31-a82b-983e958b1e06",
   "metadata": {},
   "outputs": [
    {
     "data": {
      "text/plain": [
       "array([7.33184949, 1.03409974, 0.02426052, 0.34574908, 0.23780187])"
      ]
     },
     "execution_count": 75,
     "metadata": {},
     "output_type": "execute_result"
    }
   ],
   "source": [
    "# the eigenvalues (and eigenvectors) of of a real symmetric matrix are always real\n",
    "eigvals"
   ]
  },
  {
   "cell_type": "code",
   "execution_count": 76,
   "id": "90f31ecc-8be5-499e-ac3b-eaa8335948d2",
   "metadata": {},
   "outputs": [
    {
     "data": {
      "text/plain": [
       "array([0, 1, 3, 4, 2])"
      ]
     },
     "execution_count": 76,
     "metadata": {},
     "output_type": "execute_result"
    }
   ],
   "source": [
    "# numpy does not return the eigenvalues in any particular order, so sort them in descending order\n",
    "# from largest to smallest\n",
    "order = np.flip(eigvals.argsort())\n",
    "order"
   ]
  },
  {
   "cell_type": "code",
   "execution_count": 77,
   "id": "f1c36d82-150e-4606-8a6d-767d0f5c2d19",
   "metadata": {},
   "outputs": [
    {
     "name": "stdout",
     "output_type": "stream",
     "text": [
      "[7.33184949 1.03409974 0.34574908 0.23780187 0.02426052]\n",
      "[[-0.41254268 -0.15114579 -0.3328512   0.47867142  0.68340855]\n",
      " [-0.4571753   0.42436657 -0.45459826 -0.63448676  0.04087453]\n",
      " [-0.49308011 -0.46969699  0.60425569 -0.38149619  0.15997641]\n",
      " [-0.30670097  0.72382563  0.52199929  0.33093938 -0.0026151 ]\n",
      " [-0.53254653 -0.22919239 -0.211996    0.33651152 -0.71111373]]\n"
     ]
    }
   ],
   "source": [
    "eigvals=eigvals[order]\n",
    "eigvecs=eigvecs[:,order]\n",
    "print(eigvals)\n",
    "print(eigvecs)"
   ]
  },
  {
   "cell_type": "code",
   "execution_count": 79,
   "id": "030429ad-c027-40f9-b005-055636d9e75c",
   "metadata": {},
   "outputs": [
    {
     "name": "stdout",
     "output_type": "stream",
     "text": [
      "0.9999999999999999\n",
      "-4.3322455805065386e-17\n",
      "-6.94033171408641e-17\n",
      "3.09394000707777e-17\n",
      "-1.3720006158425484e-16\n"
     ]
    }
   ],
   "source": [
    "# use a loop to take inner product of first eigenvector with all the others \n",
    "for i in np.arange(len(eigvals)):\n",
    "    innerprod=np.dot(eigvecs[:,0].T,eigvecs[:,i])\n",
    "    print(innerprod)"
   ]
  },
  {
   "cell_type": "code",
   "execution_count": 80,
   "id": "1ef3ec24-cb2e-491c-97f3-57bf1cfef111",
   "metadata": {},
   "outputs": [],
   "source": [
    "# the eigenvectors are a spanning (or basis) set so that any vector can be projected onto the basis set, i.e., \n",
    "# expressed as a linear weighted sum of the basis vectors"
   ]
  },
  {
   "cell_type": "code",
   "execution_count": 81,
   "id": "e124e305-7a24-4b3d-8f59-289de931f8b3",
   "metadata": {},
   "outputs": [
    {
     "data": {
      "text/plain": [
       "array([[0.24112461],\n",
       "       [0.11243983],\n",
       "       [0.09667273],\n",
       "       [0.19998163],\n",
       "       [0.69067789]])"
      ]
     },
     "execution_count": 81,
     "metadata": {},
     "output_type": "execute_result"
    }
   ],
   "source": [
    "# make a random vector,f\n",
    "f=np.random.rand(n,1)\n",
    "f"
   ]
  },
  {
   "cell_type": "code",
   "execution_count": 82,
   "id": "cc41d0bd-b589-440a-85a2-c4b437898d9d",
   "metadata": {},
   "outputs": [
    {
     "data": {
      "text/plain": [
       "array([0.30580046])"
      ]
     },
     "execution_count": 82,
     "metadata": {},
     "output_type": "execute_result"
    }
   ],
   "source": [
    "# project f onto just one of th eigenvectors\n",
    "np.dot(eigvecs[:,3].T,f)"
   ]
  },
  {
   "cell_type": "code",
   "execution_count": 83,
   "id": "45197db8-d566-46a2-abd0-bfc46d90d833",
   "metadata": {},
   "outputs": [
    {
     "data": {
      "text/plain": [
       "array([[-0.62769898],\n",
       "       [-0.04768244],\n",
       "       [-0.1149892 ],\n",
       "       [ 0.30580046],\n",
       "       [-0.3068256 ]])"
      ]
     },
     "execution_count": 83,
     "metadata": {},
     "output_type": "execute_result"
    }
   ],
   "source": [
    "# project on to ALL the vector in one matrix multiplication\n",
    "A=np.dot(eigvecs.T,f)\n",
    "A"
   ]
  },
  {
   "cell_type": "code",
   "execution_count": 84,
   "id": "1540321b-b9e8-4380-afa4-756ee2e5b836",
   "metadata": {},
   "outputs": [
    {
     "data": {
      "text/plain": [
       "array([[ 1.11022302e-16,  5.55111512e-17,  5.55111512e-17,\n",
       "        -1.11022302e-16,  1.11022302e-16],\n",
       "       [-5.55111512e-17,  2.22044605e-16, -2.22044605e-16,\n",
       "         0.00000000e+00,  2.49800181e-16],\n",
       "       [ 7.77156117e-16, -3.33066907e-16, -2.22044605e-16,\n",
       "        -1.11022302e-16,  8.32667268e-17],\n",
       "       [ 1.33226763e-15, -2.22044605e-16,  9.43689571e-16,\n",
       "         1.66533454e-16, -2.05391260e-15],\n",
       "       [ 1.11022302e-15, -1.88737914e-15, -4.99600361e-16,\n",
       "         8.85142654e-16,  8.88178420e-16]])"
      ]
     },
     "execution_count": 84,
     "metadata": {},
     "output_type": "execute_result"
    }
   ],
   "source": [
    "# notice this does not use the inverse matrix, but works with a simple transpose because eigvecs.T is its own inverse\n",
    "misfit=eigvecs.T-linalg.inv(eigvecs)\n",
    "misfit"
   ]
  },
  {
   "cell_type": "code",
   "execution_count": 85,
   "id": "fcc29e95-1895-4cf1-b22c-980b9690595b",
   "metadata": {},
   "outputs": [
    {
     "name": "stdout",
     "output_type": "stream",
     "text": [
      "[[ 1.00000000e+00 -5.72002436e-17 -8.32811049e-17  3.09394001e-17\n",
      "  -8.16889104e-17]\n",
      " [-5.72002436e-17  1.00000000e+00 -2.88928433e-16 -1.89423187e-16\n",
      "  -2.98157014e-16]\n",
      " [-8.32811049e-17 -2.88928433e-16  1.00000000e+00  8.38416750e-16\n",
      "   4.68879974e-16]\n",
      " [ 3.09394001e-17 -1.89423187e-16  8.38416750e-16  1.00000000e+00\n",
      "   2.49338746e-15]\n",
      " [-8.16889104e-17 -2.98157014e-16  4.68879974e-16  2.49338746e-15\n",
      "   1.00000000e+00]]\n"
     ]
    }
   ],
   "source": [
    "# also, if the transpose is the inverse, then e.T*e should be I\n",
    "tmp=np.dot(eigvecs.T,eigvecs)\n",
    "print(tmp)"
   ]
  },
  {
   "cell_type": "code",
   "execution_count": 86,
   "id": "0300ded6-2cea-483f-8b0a-3f0359f3ffba",
   "metadata": {},
   "outputs": [
    {
     "data": {
      "text/plain": [
       "array([[0.24112461],\n",
       "       [0.11243983],\n",
       "       [0.09667273],\n",
       "       [0.19998163],\n",
       "       [0.69067789]])"
      ]
     },
     "execution_count": 86,
     "metadata": {},
     "output_type": "execute_result"
    }
   ],
   "source": [
    "# check that the vector of weights, A, times the eigenvectors, gives us the original vector, f\n",
    "np.dot(eigvecs,A)"
   ]
  },
  {
   "cell_type": "code",
   "execution_count": 87,
   "id": "e9a3939b-fd57-46e8-8d7a-b2fe98808e05",
   "metadata": {},
   "outputs": [
    {
     "data": {
      "text/plain": [
       "array([[0.24112461],\n",
       "       [0.11243983],\n",
       "       [0.09667273],\n",
       "       [0.19998163],\n",
       "       [0.69067789]])"
      ]
     },
     "execution_count": 87,
     "metadata": {},
     "output_type": "execute_result"
    }
   ],
   "source": [
    "# compare to f \n",
    "f"
   ]
  },
  {
   "cell_type": "code",
   "execution_count": null,
   "id": "3fc44209-0611-4d01-a087-96c9bcb25771",
   "metadata": {},
   "outputs": [],
   "source": []
  },
  {
   "cell_type": "code",
   "execution_count": null,
   "id": "994e2f28-2d88-4693-9b3b-01e404404db5",
   "metadata": {},
   "outputs": [],
   "source": []
  },
  {
   "cell_type": "code",
   "execution_count": null,
   "id": "f1481416-95d0-4754-943a-a4f0be11395e",
   "metadata": {},
   "outputs": [],
   "source": []
  },
  {
   "cell_type": "code",
   "execution_count": null,
   "id": "8e13ccce-f4de-4925-95ef-9de80242695c",
   "metadata": {},
   "outputs": [],
   "source": []
  },
  {
   "cell_type": "code",
   "execution_count": null,
   "id": "4e0a14f1-c105-43d0-baed-d5d7b2fa40ea",
   "metadata": {},
   "outputs": [],
   "source": []
  },
  {
   "cell_type": "code",
   "execution_count": null,
   "id": "e4ada29d-d877-4384-90e8-80bf159b870d",
   "metadata": {},
   "outputs": [],
   "source": []
  }
 ],
 "metadata": {
  "kernelspec": {
   "display_name": "Python 3 (ipykernel)",
   "language": "python",
   "name": "python3"
  },
  "language_info": {
   "codemirror_mode": {
    "name": "ipython",
    "version": 3
   },
   "file_extension": ".py",
   "mimetype": "text/x-python",
   "name": "python",
   "nbconvert_exporter": "python",
   "pygments_lexer": "ipython3",
   "version": "3.9.12"
  }
 },
 "nbformat": 4,
 "nbformat_minor": 5
}
